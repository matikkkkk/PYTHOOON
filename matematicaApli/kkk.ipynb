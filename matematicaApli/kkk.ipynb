{
 "cells": [
  {
   "cell_type": "code",
   "execution_count": 1,
   "id": "d6e5c3b9",
   "metadata": {},
   "outputs": [],
   "source": [
    "import numpy as np\n",
    "import matplotlib.pyplot as plt\n",
    "from scipy.optimize import fsolve"
   ]
  },
  {
   "cell_type": "code",
   "execution_count": 2,
   "id": "c5a722e1",
   "metadata": {},
   "outputs": [],
   "source": [
    "def D(t):\n",
    "    return 50*np.exp(0.3*t)\n"
   ]
  },
  {
   "cell_type": "code",
   "execution_count": 10,
   "id": "814594a0",
   "metadata": {},
   "outputs": [
    {
     "name": "stdout",
     "output_type": "stream",
     "text": [
      "[-26.69 -26.   -25.57 -25.3  -21.18 -18.72 -15.08 -13.19 -12.34   7.94\n",
      "   7.99   8.  ]\n",
      "302.5\n"
     ]
    },
    {
     "name": "stderr",
     "output_type": "stream",
     "text": [
      "C:\\Users\\matym\\AppData\\Local\\Temp\\ipykernel_149600\\1590070215.py:4: RuntimeWarning: The iteration is not making good progress, as measured by the \n",
      " improvement from the last ten iterations.\n",
      "  soluciones = np.around(fsolve(F, xo),2)\n"
     ]
    }
   ],
   "source": [
    "def F(t):\n",
    "    return D(t)-551\n",
    "xo = np.linspace(0,10,100)\n",
    "soluciones = np.around(fsolve(F, xo),2)\n",
    "soluciones_unicas = np.unique(soluciones)\n",
    "print(soluciones_unicas)\n",
    "\n",
    "print(round(D(6),1))\n"
   ]
  },
  {
   "cell_type": "code",
   "execution_count": 12,
   "id": "265ccdce",
   "metadata": {},
   "outputs": [
    {
     "name": "stdout",
     "output_type": "stream",
     "text": [
      "650\n"
     ]
    }
   ],
   "source": [
    "def M(x):\n",
    "    return x**3-4*x**2+5*x\n",
    "print(M(10))"
   ]
  },
  {
   "cell_type": "code",
   "execution_count": 18,
   "id": "d83c2120",
   "metadata": {},
   "outputs": [
    {
     "name": "stdout",
     "output_type": "stream",
     "text": [
      "[26.]\n",
      "1200\n"
     ]
    }
   ],
   "source": [
    "def C(n):\n",
    "    return 50*n+200\n",
    "def K(t):\n",
    "    return C(t)-1500\n",
    "xo = np.linspace(0,10,100)\n",
    "soluciones = np.around(fsolve(K, xo),2)\n",
    "soluciones_unicas = np.unique(soluciones)\n",
    "print(soluciones_unicas)\n",
    "\n",
    "print(C(20))"
   ]
  },
  {
   "cell_type": "code",
   "execution_count": 31,
   "id": "7feed6a7",
   "metadata": {},
   "outputs": [],
   "source": [
    "def S(n):\n",
    "    return 2*n**2+3*n+5\n",
    "\n"
   ]
  },
  {
   "cell_type": "code",
   "execution_count": 32,
   "id": "c70e7f54",
   "metadata": {},
   "outputs": [
    {
     "name": "stdout",
     "output_type": "stream",
     "text": [
      "[15.]\n"
     ]
    }
   ],
   "source": [
    "def H(n):\n",
    "    return S(n)-500\n",
    "xo = np.linspace(0,500,100)\n",
    "soluciones = np.around(fsolve(H, xo),1)\n",
    "soluciones_unicas = np.unique(soluciones)\n",
    "print(soluciones_unicas)"
   ]
  },
  {
   "cell_type": "code",
   "execution_count": 33,
   "id": "29af1171",
   "metadata": {},
   "outputs": [
    {
     "name": "stdout",
     "output_type": "stream",
     "text": [
      "5155\n"
     ]
    }
   ],
   "source": [
    "print(S(50))"
   ]
  },
  {
   "cell_type": "code",
   "execution_count": 36,
   "id": "63f7b5db",
   "metadata": {},
   "outputs": [
    {
     "name": "stdout",
     "output_type": "stream",
     "text": [
      "[10.]\n"
     ]
    }
   ],
   "source": [
    "def I(x):\n",
    "    return 50*x+0.5*x**2\n",
    "def C(x):\n",
    "    return 10*x+450\n",
    "\n",
    "def X(x):\n",
    "    return I(x)-C(x)\n",
    "xo = np.linspace(0,100,100)\n",
    "soluciones = np.around(fsolve(X, xo),1)\n",
    "soluciones_unicas = np.unique(soluciones)\n",
    "print(soluciones_unicas)"
   ]
  }
 ],
 "metadata": {
  "kernelspec": {
   "display_name": "Python 3",
   "language": "python",
   "name": "python3"
  },
  "language_info": {
   "codemirror_mode": {
    "name": "ipython",
    "version": 3
   },
   "file_extension": ".py",
   "mimetype": "text/x-python",
   "name": "python",
   "nbconvert_exporter": "python",
   "pygments_lexer": "ipython3",
   "version": "3.12.6"
  }
 },
 "nbformat": 4,
 "nbformat_minor": 5
}
