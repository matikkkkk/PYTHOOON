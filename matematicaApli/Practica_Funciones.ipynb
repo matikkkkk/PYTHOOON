{
 "cells": [
  {
   "cell_type": "markdown",
   "metadata": {},
   "source": [
    "## Práctica Funciones en Python"
   ]
  },
  {
   "cell_type": "markdown",
   "metadata": {},
   "source": [
    "Se le entregan las siguientes 3 funciones, cuyo dominio son todos los números reales entre -1 y 10:\n",
    "\n",
    "**Función 1**: $$f(x) = x^{2}-2x+7$$\n",
    "\n",
    "**Función 2**: $$g(x) = 3x+9$$\n",
    "\n",
    "**Función 3**: $$h(x) = 2e^{0.4x}$$"
   ]
  },
  {
   "cell_type": "markdown",
   "metadata": {},
   "source": [
    "## Actividades\n"
   ]
  },
  {
   "cell_type": "markdown",
   "metadata": {},
   "source": [
    "1. Defina las 3 funciones en Python. Calcule la imagen de $$x=6$$ en cada una de ellas."
   ]
  },
  {
   "cell_type": "code",
   "execution_count": 4,
   "metadata": {},
   "outputs": [
    {
     "name": "stdout",
     "output_type": "stream",
     "text": [
      "31\n",
      "27\n",
      "22.04635276128321\n"
     ]
    }
   ],
   "source": [
    "import numpy as np\n",
    "def F(x):\n",
    "    return (x**2)-2*x+7\n",
    "x=6\n",
    "print(F(x))\n",
    "def G(x):\n",
    "    return 3*x+9\n",
    "print(G(x))\n",
    "def H(x): \n",
    "    e=np.exp(0.4*x)\n",
    "    return 2*e\n",
    "print(H(x))\n",
    "    \n"
   ]
  },
  {
   "cell_type": "markdown",
   "metadata": {},
   "source": [
    "2. Calcule la preimagen de $$y=20$$ en cada una de ellas."
   ]
  },
  {
   "cell_type": "code",
   "execution_count": null,
   "metadata": {},
   "outputs": [
    {
     "name": "stdout",
     "output_type": "stream",
     "text": [
      "[-2.74165739]\n",
      "-2.7416573867739413\n",
      " -3\n"
     ]
    }
   ],
   "source": [
    "\n",
    "import numpy as np\n",
    "from scipy.optimize import fsolve\n",
    "def P(x):\n",
    "    return F(x)-20\n",
    "\n",
    "x= np.linspace(-5, 30, 1)\n",
    "sol = fsolve(P,x)\n",
    "print(sol)\n",
    "print(sol[0])\n",
    "print(f\" {round(sol[0])}\")"
   ]
  },
  {
   "cell_type": "code",
   "execution_count": 13,
   "metadata": {},
   "outputs": [
    {
     "name": "stdout",
     "output_type": "stream",
     "text": [
      "[3.66666667]\n",
      "4\n"
     ]
    }
   ],
   "source": [
    "def L(x):\n",
    "    return G(x)-20\n",
    "\n",
    "#Valor/es inicial/es de la aproximación\n",
    "xo = np.linspace(-5,30,1)\n",
    "solucion = fsolve(L, xo)\n",
    "print(solucion)\n",
    "print(round(solucion[0]))\n",
    "#Recordar que \"solucion\" es un arreglo que puede tener uno o más valores"
   ]
  },
  {
   "cell_type": "code",
   "execution_count": 14,
   "metadata": {},
   "outputs": [
    {
     "name": "stdout",
     "output_type": "stream",
     "text": [
      "[-5.]\n",
      "-5\n"
     ]
    }
   ],
   "source": [
    "def V(x):\n",
    "    return H(x)-20\n",
    "\n",
    "#Valor/es inicial/es de la aproximación\n",
    "xo = np.linspace(-5,30,1)\n",
    "solucion = fsolve(V, xo)\n",
    "print(solucion)\n",
    "print(round(solucion[0]))\n",
    "\n",
    "#Recordar que \"solucion\" es un arreglo que puede tener uno o más valores"
   ]
  },
  {
   "cell_type": "markdown",
   "metadata": {},
   "source": [
    "3. Grafique las 3 funciones en un mismo gráfico, visualizando de acuerdo al dominio mencionado, y mostrando una etiqueta que permita identificar a cada función."
   ]
  },
  {
   "cell_type": "code",
   "execution_count": null,
   "metadata": {},
   "outputs": [],
   "source": [
    "\n",
    "import numpy as np\n",
    "import matplotlib.pyplot as plt\n",
    "x = np.arange(inicial,final,paso)\n",
    "plt.plot(x, f(x), label = 'f(x)')\n",
    "plt.axis([inicialx,finalx,inicialy,finaly])\n",
    "plt.title('Nombre del gráfico')\n",
    "plt.xlabel('Nombre eje x')\n",
    "plt.ylabel('Nombre eje y')\n",
    "plt.grid(True)\n",
    "plt.legend()\n",
    "plt.show()"
   ]
  },
  {
   "cell_type": "markdown",
   "metadata": {},
   "source": [
    "4. Determine en qué punto se intersectan las funciones g y h."
   ]
  },
  {
   "cell_type": "code",
   "execution_count": null,
   "metadata": {},
   "outputs": [],
   "source": []
  },
  {
   "cell_type": "markdown",
   "metadata": {},
   "source": [
    "5. Determine en qué puntos se intersectan las funciones f y g."
   ]
  },
  {
   "cell_type": "code",
   "execution_count": null,
   "metadata": {},
   "outputs": [],
   "source": []
  }
 ],
 "metadata": {
  "kernelspec": {
   "display_name": "base",
   "language": "python",
   "name": "python3"
  },
  "language_info": {
   "codemirror_mode": {
    "name": "ipython",
    "version": 3
   },
   "file_extension": ".py",
   "mimetype": "text/x-python",
   "name": "python",
   "nbconvert_exporter": "python",
   "pygments_lexer": "ipython3",
   "version": "3.8.5"
  }
 },
 "nbformat": 4,
 "nbformat_minor": 2
}
