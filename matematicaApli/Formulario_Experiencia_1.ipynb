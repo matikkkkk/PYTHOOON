{
 "cells": [
  {
   "cell_type": "markdown",
   "metadata": {},
   "source": [
    "# Formulario Python para MAT2121"
   ]
  },
  {
   "cell_type": "markdown",
   "metadata": {},
   "source": [
    "## Importar bibliotecas o librerías"
   ]
  },
  {
   "cell_type": "code",
   "execution_count": null,
   "metadata": {},
   "outputs": [],
   "source": [
    "import numpy as np\n",
    "import matplotlib.pyplot as plt\n",
    "from scipy.optimize import fsolve"
   ]
  },
  {
   "cell_type": "markdown",
   "metadata": {},
   "source": [
    "## Manipulación de listas"
   ]
  },
  {
   "cell_type": "code",
   "execution_count": null,
   "metadata": {},
   "outputs": [],
   "source": [
    "lista = [1, 2, 3, 4]\n",
    "primer_elemento = lista[0] #Guarda en variable el 1\n",
    "ultimo_elemento = lista[-1] #Guarda en variable el 4\n",
    "tercer_elemento = lista[2] #Guarda en variable el 3"
   ]
  },
  {
   "cell_type": "markdown",
   "metadata": {},
   "source": [
    "## Definición de una función"
   ]
  },
  {
   "cell_type": "code",
   "execution_count": null,
   "metadata": {},
   "outputs": [],
   "source": [
    "def f(x):\n",
    "    return 2*x+1"
   ]
  },
  {
   "cell_type": "markdown",
   "metadata": {},
   "source": [
    "## Llamar a una función"
   ]
  },
  {
   "cell_type": "code",
   "execution_count": null,
   "metadata": {},
   "outputs": [],
   "source": [
    "resultado = f(4) #el valor de resultado será 9"
   ]
  },
  {
   "cell_type": "markdown",
   "metadata": {},
   "source": [
    "## Graficar una función"
   ]
  },
  {
   "cell_type": "code",
   "execution_count": null,
   "metadata": {},
   "outputs": [],
   "source": [
    "#Debe estar importado pyplot de matplotlib\n",
    "x = np.arange(inicial,final,paso)\n",
    "plt.plot(x, f(x), label = 'f(x)')\n",
    "#Para configurar ambos ejes:\n",
    "plt.axis([inicialx,finalx,inicialy,finaly]) #Si desea configurarlos de a uno, usar plt.xlim() y plt.ylim()\n",
    "plt.title('Nombre del gráfico')\n",
    "plt.xlabel('Nombre eje x')\n",
    "plt.ylabel('Nombre eje y')\n",
    "plt.grid(True)\n",
    "plt.legend()\n",
    "plt.show()"
   ]
  },
  {
   "cell_type": "markdown",
   "metadata": {},
   "source": [
    "## Encontrar expresión de función lineal"
   ]
  },
  {
   "cell_type": "code",
   "execution_count": null,
   "metadata": {},
   "outputs": [],
   "source": [
    "x = np.array([x1,x2,x3,...,xn])\n",
    "y= np.array([y1,y2,y3,...,yn])\n",
    "pendiente, intercepto = np.polyfit(x,y,1)\n",
    "print(\"La pendiente es\",round(pendiente,2),\"y el coeficiente de posición es\",round(intercepto,2))"
   ]
  },
  {
   "cell_type": "markdown",
   "metadata": {},
   "source": [
    "## Encontrar raíces de una función"
   ]
  },
  {
   "cell_type": "code",
   "execution_count": null,
   "metadata": {},
   "outputs": [],
   "source": [
    "#Debe estar importado fsolve de scipy.optimize\n",
    "def F(x):\n",
    "    return #'función igualada a cero'\n",
    "#Arreglo para la aproximación\n",
    "xo = np.linspace(inicial,final,cantidad_de_soluciones)\n",
    "soluciones = np.around(fsolve(F, xo),cantidad_decimales)\n",
    "#Se depura el arreglo de soluciones:\n",
    "soluciones_unicas = np.unique(soluciones)\n",
    "print(soluciones_unicas)"
   ]
  }
 ],
 "metadata": {
  "kernelspec": {
   "display_name": "Python 3",
   "language": "python",
   "name": "python3"
  },
  "language_info": {
   "codemirror_mode": {
    "name": "ipython",
    "version": 3
   },
   "file_extension": ".py",
   "mimetype": "text/x-python",
   "name": "python",
   "nbconvert_exporter": "python",
   "pygments_lexer": "ipython3",
   "version": "3.12.5"
  }
 },
 "nbformat": 4,
 "nbformat_minor": 2
}
