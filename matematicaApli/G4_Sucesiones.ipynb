{
  "cells": [
    {
      "cell_type": "markdown",
      "metadata": {
        "id": "Jsg7AmugfdN3"
      },
      "source": [
        "# Problema 1"
      ]
    },
    {
      "cell_type": "markdown",
      "metadata": {
        "id": "_IzpNklvfgKe"
      },
      "source": [
        "Considere la sucesión $a_{n} = 3n^{2} + 7$. Por medio de un código en *Python* despliega en pantalla:\n",
        "\n",
        "1. Los primeros $5$ términos.\n",
        "2. Los $5$ términos que vienen inmediatamente después del decimoquinto término."
      ]
    },
    {
      "cell_type": "code",
      "execution_count": 4,
      "metadata": {},
      "outputs": [
        {
          "name": "stdout",
          "output_type": "stream",
          "text": [
            "a_1=10\n",
            "a_2=19\n",
            "a_3=34\n",
            "a_4=55\n",
            "a_5=82\n",
            "a_6=115\n",
            "a_7=154\n",
            "a_8=199\n",
            "a_9=250\n",
            "a_10=307\n",
            "a_11=370\n",
            "a_12=439\n",
            "a_13=514\n",
            "a_14=595\n",
            "a_15=682\n",
            "a_16=775\n",
            "a_17=874\n",
            "a_18=979\n",
            "a_19=1090\n",
            "a_20=1207\n"
          ]
        }
      ],
      "source": [
        "a=[]\n",
        "for i in range(20):\n",
        "    n=i+1\n",
        "    a.append(3*n**2+7)\n",
        "    print(f\"a_{n}={a[i]}\")"
      ]
    },
    {
      "cell_type": "markdown",
      "metadata": {},
      "source": [
        "\n",
        "1. Los primeros $5$ términos."
      ]
    },
    {
      "cell_type": "code",
      "execution_count": 6,
      "metadata": {},
      "outputs": [
        {
          "name": "stdout",
          "output_type": "stream",
          "text": [
            "a_1=10\n",
            "a_2=19\n",
            "a_3=34\n",
            "a_4=55\n",
            "a_5=82\n"
          ]
        }
      ],
      "source": [
        "for i in range(5):\n",
        "    n=i+1\n",
        "    print(f\"a_{n}={a[i]}\")"
      ]
    },
    {
      "cell_type": "markdown",
      "metadata": {},
      "source": [
        "2. Los $5$ términos que vienen inmediatamente después del decimoquinto término."
      ]
    },
    {
      "cell_type": "code",
      "execution_count": 14,
      "metadata": {},
      "outputs": [
        {
          "name": "stdout",
          "output_type": "stream",
          "text": [
            "a_15=682\n",
            "a_16=775\n",
            "a_17=874\n",
            "a_18=979\n",
            "a_19=1090\n",
            "a_20=1207\n",
            "a_21=682\n"
          ]
        }
      ],
      "source": [
        "for i in range(14,21):\n",
        "    n=i+1\n",
        "    a.append(3*n**2+7)\n",
        "    print(f\"a_{n}={a[i]}\")"
      ]
    },
    {
      "cell_type": "markdown",
      "metadata": {
        "id": "MpHLoYWfk97E"
      },
      "source": [
        "# Problema 2"
      ]
    },
    {
      "cell_type": "markdown",
      "metadata": {
        "id": "TdrPqS7Mk_l0"
      },
      "source": [
        "Considere la sucesión $g_{n} = 5n^{3}$. Implemente un código en *Python* que muestre en pantalla:\n",
        "\n",
        "1. Los primeros $4$ términos de la sucesión.\n",
        "2. Los $4$ términos que vienen inmediatamente después del octavo término.\n",
        "3. Determinar si el término $40.000$ pertenece a la sucesión. Si es así, indicar en qué posición se encuentra."
      ]
    },
    {
      "cell_type": "markdown",
      "metadata": {},
      "source": [
        "1. Los primeros $4$ términos de la sucesión."
      ]
    },
    {
      "cell_type": "code",
      "execution_count": 59,
      "metadata": {},
      "outputs": [
        {
          "name": "stdout",
          "output_type": "stream",
          "text": [
            "a_1=5\n",
            "a_2=40\n",
            "a_3=135\n",
            "a_4=320\n",
            "a_5=625\n",
            "a_6=1080\n",
            "a_7=1715\n",
            "a_8=2560\n",
            "a_9=3645\n",
            "a_10=5000\n",
            "a_11=6655\n",
            "a_12=8640\n",
            "a_13=10985\n",
            "a_14=13720\n",
            "a_15=16875\n",
            "a_16=20480\n",
            "a_17=24565\n",
            "a_18=29160\n",
            "a_19=34295\n",
            "a_20=40000\n",
            "a_1=5\n",
            "a_2=40\n",
            "a_3=135\n",
            "a_4=320\n"
          ]
        }
      ],
      "source": [
        "g=[]\n",
        "for i in range(20):\n",
        "    h=i+1\n",
        "    g.append(5*h**3)\n",
        "    print(f\"a_{h}={g[i]}\")\n",
        "\n",
        "for i in range(4):\n",
        "    h=i+1\n",
        "    g.append(5*h**3)\n",
        "    print(f\"a_{h}={g[i]}\")\n",
        "\n",
        "    "
      ]
    },
    {
      "cell_type": "markdown",
      "metadata": {},
      "source": [
        "2. Los $4$ términos que vienen inmediatamente después del octavo término.\n"
      ]
    },
    {
      "cell_type": "code",
      "execution_count": 63,
      "metadata": {},
      "outputs": [
        {
          "name": "stdout",
          "output_type": "stream",
          "text": [
            "a_8=2560\n",
            "a_9=3645\n",
            "a_10=5000\n",
            "a_11=6655\n",
            "a_12=8640\n",
            "a_13=10985\n",
            "a_14=13720\n"
          ]
        }
      ],
      "source": [
        "for i in range(7,14):\n",
        "    h=i+1\n",
        "    print(f\"a_{h}={g[i]}\")"
      ]
    },
    {
      "cell_type": "markdown",
      "metadata": {},
      "source": [
        "3. Determinar si el término $40.000$ pertenece a la sucesión. Si es así, indicar en qué posición se encuentra."
      ]
    },
    {
      "cell_type": "code",
      "execution_count": null,
      "metadata": {},
      "outputs": [
        {
          "name": "stdout",
          "output_type": "stream",
          "text": [
            "a_1=5\n",
            "a_2=40\n",
            "a_3=135\n",
            "a_4=320\n",
            "a_5=625\n",
            "a_6=1080\n",
            "a_7=1715\n",
            "a_8=2560\n",
            "a_9=3645\n",
            "a_10=5000\n",
            "a_11=6655\n",
            "a_12=8640\n",
            "a_13=10985\n",
            "a_14=13720\n",
            "a_15=16875\n",
            "a_16=20480\n",
            "a_17=24565\n",
            "a_18=29160\n",
            "a_19=34295\n",
            "a_20=40000\n"
          ]
        }
      ],
      "source": [
        "for i in range(20):\n",
        "    h=i+1\n",
        "    print(f\"a_{h}={g[i]}\")"
      ]
    },
    {
      "cell_type": "markdown",
      "metadata": {},
      "source": [
        "SI pertenece el 40.000 es de a_20"
      ]
    },
    {
      "cell_type": "markdown",
      "metadata": {
        "id": "7GDU-KDLuR7i"
      },
      "source": [
        "# Problema 3"
      ]
    },
    {
      "cell_type": "markdown",
      "metadata": {
        "id": "GG1duXd1uU6Z"
      },
      "source": [
        "La sucesión de Fibonacci es una serie de números en la que cada número, desde el tercero en adelante, es la suma de los dos anteriores. Comienza con el $0$ y $1$, tal como se observa a continuación:\n",
        "\n",
        "$$0, 1, 1, 2, 3, 5, 8, 13, ...$$\n",
        "\n",
        "Formalmente, la sucesión se define de la siguiente manera:\n",
        "\n",
        "\\begin{split}\n",
        "F(0) &= 0\\\\\n",
        "F(1) &= 1\\\\\n",
        "F(n) &= F(n - 1) + F(n - 2), \\ \\text{ para $n \\geq 2$}\n",
        "\\end{split}\n",
        "\n",
        "Esta sucesión se utiliza en una variedad de contextos en informática y algoritmos debido a sus propiedades matemáticas y patrones.\n",
        "\n",
        "1. Implementa un código en *Python* que muestre en pantalla los primeros $20$ términos de la sucesión.\n",
        "2. Calcula, utilizando un ciclo *for*, la suma de los primeros $30$ términos de la sucesión de Fibonacci."
      ]
    },
    {
      "cell_type": "markdown",
      "metadata": {},
      "source": [
        "1. Implementa un código en *Python* que muestre en pantalla los primeros $20$ términos de la sucesión.\n"
      ]
    },
    {
      "cell_type": "code",
      "execution_count": 61,
      "metadata": {},
      "outputs": [
        {
          "name": "stdout",
          "output_type": "stream",
          "text": [
            "0\n",
            "1\n",
            "1\n",
            "2\n",
            "3\n",
            "5\n",
            "8\n",
            "13\n",
            "21\n",
            "34\n",
            "55\n",
            "89\n",
            "144\n",
            "233\n",
            "377\n",
            "610\n",
            "987\n",
            "1597\n",
            "2584\n",
            "4181\n",
            "6765\n",
            "10946\n",
            "17711\n",
            "28657\n",
            "46368\n",
            "75025\n",
            "121393\n",
            "196418\n",
            "317811\n",
            "514229\n"
          ]
        }
      ],
      "source": [
        "\n",
        "def Fi():\n",
        "    L= [0,1]\n",
        "    for i in range(2, 30):\n",
        "        n=i+1\n",
        "        L.append(L[i-1]+L[i-2])\n",
        "    return L\n",
        "\n",
        "for numero in Fi():\n",
        "    print(numero)\n"
      ]
    },
    {
      "cell_type": "markdown",
      "metadata": {},
      "source": [
        "2. Calcula, utilizando un ciclo *for*, la suma de los primeros $30$ términos de la sucesión de Fibonacci."
      ]
    },
    {
      "cell_type": "code",
      "execution_count": 52,
      "metadata": {},
      "outputs": [
        {
          "name": "stdout",
          "output_type": "stream",
          "text": [
            "10945\n"
          ]
        }
      ],
      "source": [
        "suma=0\n",
        "for i in Fi():\n",
        "    suma+=i\n",
        "print(suma)"
      ]
    },
    {
      "cell_type": "markdown",
      "metadata": {
        "id": "OFL3b7nt8Rq_"
      },
      "source": [
        "# Problema 4"
      ]
    },
    {
      "cell_type": "markdown",
      "metadata": {
        "id": "j5QlZQwJSDsZ"
      },
      "source": [
        "Implementa un código que permita guardar en una lista la sucesión de los primeros $n$ números pares, con $n \\geq 1$. Luego, determina:\n",
        "\n",
        "1. ¿Cuál es el valor del décimo término?\n",
        "2. Calcula, utilizando un ciclo *for*, la suma de los primeros $100$ números pares.\n",
        "3. ¿En qué posición se encuentra el número $58$ dentro de la sucesión?"
      ]
    },
    {
      "cell_type": "code",
      "execution_count": 95,
      "metadata": {},
      "outputs": [
        {
          "name": "stdout",
          "output_type": "stream",
          "text": [
            "[2, 4, 6, 8, 10, 12, 14, 16, 18, 20, 22, 24, 26, 28, 30, 32, 34, 36, 38, 40, 42, 44, 46, 48, 50, 52, 54, 56, 58, 60, 62, 64, 66, 68, 70, 72, 74, 76, 78, 80, 82, 84, 86, 88, 90, 92, 94, 96, 98, 100, 102, 104, 106, 108, 110, 112, 114, 116, 118, 120, 122, 124, 126, 128, 130, 132, 134, 136, 138, 140, 142, 144, 146, 148, 150, 152, 154, 156, 158, 160, 162, 164, 166, 168, 170, 172, 174, 176, 178, 180, 182, 184, 186, 188, 190, 192, 194, 196, 198, 200]\n",
            "20\n"
          ]
        }
      ],
      "source": [
        "pares=[]\n",
        "for i in range(1,101):\n",
        "    pares.append(i*2)\n",
        "print(pares)   \n",
        "print(pares[9])"
      ]
    },
    {
      "cell_type": "markdown",
      "metadata": {},
      "source": [
        "1. ¿Cuál es el valor del décimo término?\n"
      ]
    },
    {
      "cell_type": "markdown",
      "metadata": {},
      "source": [
        "El valor del decimo termino es de 18"
      ]
    },
    {
      "cell_type": "markdown",
      "metadata": {},
      "source": [
        "2. Calcula, utilizando un ciclo *for*, la suma de los primeros $100$ números pares.\n"
      ]
    },
    {
      "cell_type": "code",
      "execution_count": 90,
      "metadata": {},
      "outputs": [
        {
          "name": "stdout",
          "output_type": "stream",
          "text": [
            "10100\n"
          ]
        }
      ],
      "source": [
        "suma=0\n",
        "for num in pares:\n",
        "    suma+=num\n",
        "print(suma)\n"
      ]
    },
    {
      "cell_type": "markdown",
      "metadata": {},
      "source": [
        "3. ¿En qué posición se encuentra el número $58$ dentro de la sucesión?"
      ]
    },
    {
      "cell_type": "code",
      "execution_count": 94,
      "metadata": {},
      "outputs": [
        {
          "name": "stdout",
          "output_type": "stream",
          "text": [
            "29\n"
          ]
        }
      ],
      "source": [
        "print(pares.index(58))"
      ]
    },
    {
      "cell_type": "markdown",
      "metadata": {
        "id": "gBcDYpK2Z3GT"
      },
      "source": [
        "# Problema 5"
      ]
    },
    {
      "cell_type": "markdown",
      "metadata": {
        "id": "eS3i68R4Z6YQ"
      },
      "source": [
        "Un nuevo software tiene $500$ usuarios y se espera que el número de usuarios crezca un $15\\%$ respecto al mes anterior. Considere que $b_{n}$ es el número de usuarios transcurridos $n$ meses.\n",
        "\n",
        "1. Calcula cuántos usuarios tendrá el software al cabo de tres meses. ¿Y al cabo de seis meses?\n",
        "2. Mediante un código en *Pyhton* muestra la cantidad de usuarios que tendrá el software cada mes durante el primer año.\n",
        "2. ¿Cuántos usuarios tendrá en total el software luego de un año? Utilice ciclos *for* para calcular."
      ]
    },
    {
      "cell_type": "markdown",
      "metadata": {
        "id": "s2hruXWnJDbS"
      },
      "source": [
        "# Problema 6"
      ]
    },
    {
      "cell_type": "markdown",
      "metadata": {
        "id": "hH_VNmA_Og0U"
      },
      "source": [
        "Un estudiante de ingeniería informática planea ahorrar para un proyecto personal. Para esto, el primer mes deposita en una cuenta $\\$12.000$, el segundo mes deposita $\\$14.000$ y así sucesivamente, de modo que cada mes aumenta el depósito en $\\$2.000$. Considere que $a_{i}$ corresponde al depósito del estudiante en el mes $i$.\n",
        "\n",
        "1. Implementa un código que permita mostrar en pantalla lo que depositó mensualmente durante el primer año.\n",
        "2. ¿Cuánto depositó el estudiante en febrero del segundo año?\n",
        "3. ¿Cuál será el total ahorrado al finalizar dos años?"
      ]
    },
    {
      "cell_type": "markdown",
      "metadata": {},
      "source": [
        "1. Implementa un código que permita mostrar en pantalla lo que depositó mensualmente durante el primer año."
      ]
    },
    {
      "cell_type": "code",
      "execution_count": 22,
      "metadata": {},
      "outputs": [
        {
          "name": "stdout",
          "output_type": "stream",
          "text": [
            "Mes 1 y su deposito fue de 12000\n",
            "Mes 2 y su deposito fue de 14000\n",
            "Mes 3 y su deposito fue de 16000\n",
            "Mes 4 y su deposito fue de 18000\n",
            "Mes 5 y su deposito fue de 20000\n",
            "Mes 6 y su deposito fue de 22000\n",
            "Mes 7 y su deposito fue de 24000\n",
            "Mes 8 y su deposito fue de 26000\n",
            "Mes 9 y su deposito fue de 28000\n",
            "Mes 10 y su deposito fue de 30000\n",
            "Mes 11 y su deposito fue de 32000\n",
            "Mes 12 y su deposito fue de 34000\n",
            "Mes 13 y su deposito fue de 36000\n",
            "Mes 14 y su deposito fue de 38000\n",
            "Mes 15 y su deposito fue de 40000\n"
          ]
        }
      ],
      "source": [
        "cont=0\n",
        "deposito=0\n",
        "\n",
        "for i in range(15):\n",
        "   cont+=1 \n",
        "   deposito=12000+i*2000\n",
        "   print(f\"Mes {cont} y su deposito fue de {deposito}\")\n"
      ]
    },
    {
      "cell_type": "markdown",
      "metadata": {},
      "source": [
        "2. ¿Cuánto depositó el estudiante en febrero del segundo año?\n"
      ]
    },
    {
      "cell_type": "markdown",
      "metadata": {},
      "source": [
        "en febrero del segundo año su deposito fue de 38.000"
      ]
    },
    {
      "cell_type": "markdown",
      "metadata": {},
      "source": [
        "3. ¿Cuál será el total ahorrado al finalizar dos años?"
      ]
    },
    {
      "cell_type": "code",
      "execution_count": 32,
      "metadata": {},
      "outputs": [
        {
          "name": "stdout",
          "output_type": "stream",
          "text": [
            "Mes 1 su deposito fue de 12000\n",
            "Mes 2 su deposito fue de 14000\n",
            "Mes 3 su deposito fue de 16000\n",
            "Mes 4 su deposito fue de 18000\n",
            "Mes 5 su deposito fue de 20000\n",
            "Mes 6 su deposito fue de 22000\n",
            "Mes 7 su deposito fue de 24000\n",
            "Mes 8 su deposito fue de 26000\n",
            "Mes 9 su deposito fue de 28000\n",
            "Mes 10 su deposito fue de 30000\n",
            "Mes 11 su deposito fue de 32000\n",
            "Mes 12 su deposito fue de 34000\n",
            "Mes 13 su deposito fue de 36000\n",
            "Mes 14 su deposito fue de 38000\n",
            "Mes 15 su deposito fue de 40000\n",
            "Mes 16 su deposito fue de 42000\n",
            "Mes 17 su deposito fue de 44000\n",
            "Mes 18 su deposito fue de 46000\n",
            "Mes 19 su deposito fue de 48000\n",
            "Mes 20 su deposito fue de 50000\n",
            "Mes 21 su deposito fue de 52000\n",
            "Mes 22 su deposito fue de 54000\n",
            "Mes 23 su deposito fue de 56000\n",
            "Mes 24 su deposito fue de 58000\n",
            "el total ahorrado pasado 2 años es de 840000\n"
          ]
        }
      ],
      "source": [
        "\n",
        "cont=0\n",
        "deposito=0\n",
        "total=0\n",
        "for i in range(24):\n",
        "   cont+=1 \n",
        "   deposito=12000+i*2000\n",
        "   total+=deposito\n",
        "   print(f\"Mes {cont} su deposito fue de {deposito}\")\n",
        "print(f\"el total ahorrado pasado 2 años es de {total}\")"
      ]
    },
    {
      "cell_type": "markdown",
      "metadata": {
        "id": "G9sEfl4rB3e8"
      },
      "source": [
        "# Problema 7"
      ]
    },
    {
      "cell_type": "markdown",
      "metadata": {
        "id": "KZUNnG20CT4F"
      },
      "source": [
        "Por lo general, los proyectos son organizados en varias etapas que deben completarse secuencialmente.\n",
        "\n",
        "La fase inicial de un proyecto de software tiene una duración de $3$ meses y cada fase subsecuente reduce su duración en un $10 \\%$ debido a la experiencia ganada. Determine:\n",
        "\n",
        "1. ¿Cuánto dura la quinta fase?\n",
        "2. Calcula la duración total del proyecto después de $10$ fases."
      ]
    },
    {
      "cell_type": "markdown",
      "metadata": {
        "id": "keVOy_xIlU1E"
      },
      "source": [
        "# Problema 8"
      ]
    },
    {
      "cell_type": "markdown",
      "metadata": {
        "id": "QXrNG-zulXil"
      },
      "source": [
        "En una sucesión aritmética, la diferencia entre un término y el anterior es $4$ y el décimo término es $-20$. Determine:\n",
        "\n",
        "1. El primer término de la sucesión.\n",
        "2. La expresión del término de lugar $n$.\n",
        "3. Utilice un código en *Python* para calcular el término que ocupa el lugar $100$.\n",
        "4. Determinar la posición del número $1.680$ en la secuencia. Calcule utilizando un ciclo *while*."
      ]
    },
    {
      "cell_type": "markdown",
      "metadata": {},
      "source": [
        "1. El primer término de la sucesión.\n"
      ]
    },
    {
      "cell_type": "code",
      "execution_count": 51,
      "metadata": {},
      "outputs": [
        {
          "name": "stdout",
          "output_type": "stream",
          "text": [
            "termino 1 an -56\n",
            "termino 2 an -52\n",
            "termino 3 an -48\n",
            "termino 4 an -44\n",
            "termino 5 an -40\n",
            "termino 6 an -36\n",
            "termino 7 an -32\n",
            "termino 8 an -28\n",
            "termino 9 an -24\n",
            "termino 10 an -20\n",
            "termino 11 an -16\n",
            "termino 12 an -12\n",
            "termino 13 an -8\n",
            "termino 14 an -4\n",
            "termino 15 an 0\n",
            "termino 16 an 4\n",
            "termino 17 an 8\n",
            "termino 18 an 12\n",
            "termino 19 an 16\n",
            "termino 20 an 20\n",
            "termino 21 an 24\n",
            "termino 22 an 28\n",
            "termino 23 an 32\n",
            "termino 24 an 36\n",
            "termino 25 an 40\n",
            "termino 26 an 44\n",
            "termino 27 an 48\n",
            "termino 28 an 52\n",
            "termino 29 an 56\n",
            "termino 30 an 60\n",
            "termino 31 an 64\n",
            "termino 32 an 68\n",
            "termino 33 an 72\n",
            "termino 34 an 76\n",
            "termino 35 an 80\n",
            "termino 36 an 84\n",
            "termino 37 an 88\n",
            "termino 38 an 92\n",
            "termino 39 an 96\n",
            "termino 40 an 100\n",
            "termino 41 an 104\n",
            "termino 42 an 108\n",
            "termino 43 an 112\n",
            "termino 44 an 116\n",
            "termino 45 an 120\n",
            "termino 46 an 124\n",
            "termino 47 an 128\n",
            "termino 48 an 132\n",
            "termino 49 an 136\n",
            "termino 50 an 140\n",
            "termino 51 an 144\n",
            "termino 52 an 148\n",
            "termino 53 an 152\n",
            "termino 54 an 156\n",
            "termino 55 an 160\n",
            "termino 56 an 164\n",
            "termino 57 an 168\n",
            "termino 58 an 172\n",
            "termino 59 an 176\n",
            "termino 60 an 180\n",
            "termino 61 an 184\n",
            "termino 62 an 188\n",
            "termino 63 an 192\n",
            "termino 64 an 196\n",
            "termino 65 an 200\n",
            "termino 66 an 204\n",
            "termino 67 an 208\n",
            "termino 68 an 212\n",
            "termino 69 an 216\n",
            "termino 70 an 220\n",
            "termino 71 an 224\n",
            "termino 72 an 228\n",
            "termino 73 an 232\n",
            "termino 74 an 236\n",
            "termino 75 an 240\n",
            "termino 76 an 244\n",
            "termino 77 an 248\n",
            "termino 78 an 252\n",
            "termino 79 an 256\n",
            "termino 80 an 260\n",
            "termino 81 an 264\n",
            "termino 82 an 268\n",
            "termino 83 an 272\n",
            "termino 84 an 276\n",
            "termino 85 an 280\n",
            "termino 86 an 284\n",
            "termino 87 an 288\n",
            "termino 88 an 292\n",
            "termino 89 an 296\n",
            "termino 90 an 300\n",
            "termino 91 an 304\n",
            "termino 92 an 308\n",
            "termino 93 an 312\n",
            "termino 94 an 316\n",
            "termino 95 an 320\n",
            "termino 96 an 324\n",
            "termino 97 an 328\n",
            "termino 98 an 332\n",
            "termino 99 an 336\n",
            "termino 100 an 340\n",
            "termino 101 an 344\n",
            "termino 102 an 348\n",
            "termino 103 an 352\n",
            "termino 104 an 356\n",
            "termino 105 an 360\n",
            "termino 106 an 364\n",
            "termino 107 an 368\n",
            "termino 108 an 372\n",
            "termino 109 an 376\n",
            "termino 110 an 380\n",
            "termino 111 an 384\n",
            "termino 112 an 388\n",
            "termino 113 an 392\n",
            "termino 114 an 396\n",
            "termino 115 an 400\n",
            "termino 116 an 404\n",
            "termino 117 an 408\n",
            "termino 118 an 412\n",
            "termino 119 an 416\n",
            "termino 120 an 420\n",
            "termino 121 an 424\n",
            "termino 122 an 428\n",
            "termino 123 an 432\n",
            "termino 124 an 436\n",
            "termino 125 an 440\n",
            "termino 126 an 444\n",
            "termino 127 an 448\n",
            "termino 128 an 452\n",
            "termino 129 an 456\n",
            "termino 130 an 460\n",
            "termino 131 an 464\n",
            "termino 132 an 468\n",
            "termino 133 an 472\n",
            "termino 134 an 476\n",
            "termino 135 an 480\n",
            "termino 136 an 484\n",
            "termino 137 an 488\n",
            "termino 138 an 492\n",
            "termino 139 an 496\n",
            "termino 140 an 500\n",
            "termino 141 an 504\n",
            "termino 142 an 508\n",
            "termino 143 an 512\n",
            "termino 144 an 516\n",
            "termino 145 an 520\n",
            "termino 146 an 524\n",
            "termino 147 an 528\n",
            "termino 148 an 532\n",
            "termino 149 an 536\n",
            "termino 150 an 540\n",
            "termino 151 an 544\n",
            "termino 152 an 548\n",
            "termino 153 an 552\n",
            "termino 154 an 556\n",
            "termino 155 an 560\n",
            "termino 156 an 564\n",
            "termino 157 an 568\n",
            "termino 158 an 572\n",
            "termino 159 an 576\n",
            "termino 160 an 580\n",
            "termino 161 an 584\n",
            "termino 162 an 588\n",
            "termino 163 an 592\n",
            "termino 164 an 596\n",
            "termino 165 an 600\n",
            "termino 166 an 604\n",
            "termino 167 an 608\n",
            "termino 168 an 612\n",
            "termino 169 an 616\n",
            "termino 170 an 620\n",
            "termino 171 an 624\n",
            "termino 172 an 628\n",
            "termino 173 an 632\n",
            "termino 174 an 636\n",
            "termino 175 an 640\n",
            "termino 176 an 644\n",
            "termino 177 an 648\n",
            "termino 178 an 652\n",
            "termino 179 an 656\n",
            "termino 180 an 660\n",
            "termino 181 an 664\n",
            "termino 182 an 668\n",
            "termino 183 an 672\n",
            "termino 184 an 676\n",
            "termino 185 an 680\n",
            "termino 186 an 684\n",
            "termino 187 an 688\n",
            "termino 188 an 692\n",
            "termino 189 an 696\n",
            "termino 190 an 700\n",
            "termino 191 an 704\n",
            "termino 192 an 708\n",
            "termino 193 an 712\n",
            "termino 194 an 716\n",
            "termino 195 an 720\n",
            "termino 196 an 724\n",
            "termino 197 an 728\n",
            "termino 198 an 732\n",
            "termino 199 an 736\n",
            "termino 200 an 740\n",
            "termino 201 an 744\n",
            "termino 202 an 748\n",
            "termino 203 an 752\n",
            "termino 204 an 756\n",
            "termino 205 an 760\n",
            "termino 206 an 764\n",
            "termino 207 an 768\n",
            "termino 208 an 772\n",
            "termino 209 an 776\n",
            "termino 210 an 780\n",
            "termino 211 an 784\n",
            "termino 212 an 788\n",
            "termino 213 an 792\n",
            "termino 214 an 796\n",
            "termino 215 an 800\n",
            "termino 216 an 804\n",
            "termino 217 an 808\n",
            "termino 218 an 812\n",
            "termino 219 an 816\n",
            "termino 220 an 820\n",
            "termino 221 an 824\n",
            "termino 222 an 828\n",
            "termino 223 an 832\n",
            "termino 224 an 836\n",
            "termino 225 an 840\n",
            "termino 226 an 844\n",
            "termino 227 an 848\n",
            "termino 228 an 852\n",
            "termino 229 an 856\n",
            "termino 230 an 860\n",
            "termino 231 an 864\n",
            "termino 232 an 868\n",
            "termino 233 an 872\n",
            "termino 234 an 876\n",
            "termino 235 an 880\n",
            "termino 236 an 884\n",
            "termino 237 an 888\n",
            "termino 238 an 892\n",
            "termino 239 an 896\n",
            "termino 240 an 900\n",
            "termino 241 an 904\n",
            "termino 242 an 908\n",
            "termino 243 an 912\n",
            "termino 244 an 916\n",
            "termino 245 an 920\n",
            "termino 246 an 924\n",
            "termino 247 an 928\n",
            "termino 248 an 932\n",
            "termino 249 an 936\n",
            "termino 250 an 940\n",
            "termino 251 an 944\n",
            "termino 252 an 948\n",
            "termino 253 an 952\n",
            "termino 254 an 956\n",
            "termino 255 an 960\n",
            "termino 256 an 964\n",
            "termino 257 an 968\n",
            "termino 258 an 972\n",
            "termino 259 an 976\n",
            "termino 260 an 980\n",
            "termino 261 an 984\n",
            "termino 262 an 988\n",
            "termino 263 an 992\n",
            "termino 264 an 996\n",
            "termino 265 an 1000\n",
            "termino 266 an 1004\n",
            "termino 267 an 1008\n",
            "termino 268 an 1012\n",
            "termino 269 an 1016\n",
            "termino 270 an 1020\n",
            "termino 271 an 1024\n",
            "termino 272 an 1028\n",
            "termino 273 an 1032\n",
            "termino 274 an 1036\n",
            "termino 275 an 1040\n",
            "termino 276 an 1044\n",
            "termino 277 an 1048\n",
            "termino 278 an 1052\n",
            "termino 279 an 1056\n",
            "termino 280 an 1060\n",
            "termino 281 an 1064\n",
            "termino 282 an 1068\n",
            "termino 283 an 1072\n",
            "termino 284 an 1076\n",
            "termino 285 an 1080\n",
            "termino 286 an 1084\n",
            "termino 287 an 1088\n",
            "termino 288 an 1092\n",
            "termino 289 an 1096\n",
            "termino 290 an 1100\n",
            "termino 291 an 1104\n",
            "termino 292 an 1108\n",
            "termino 293 an 1112\n",
            "termino 294 an 1116\n",
            "termino 295 an 1120\n",
            "termino 296 an 1124\n",
            "termino 297 an 1128\n",
            "termino 298 an 1132\n",
            "termino 299 an 1136\n",
            "termino 300 an 1140\n",
            "termino 301 an 1144\n",
            "termino 302 an 1148\n",
            "termino 303 an 1152\n",
            "termino 304 an 1156\n",
            "termino 305 an 1160\n",
            "termino 306 an 1164\n",
            "termino 307 an 1168\n",
            "termino 308 an 1172\n",
            "termino 309 an 1176\n",
            "termino 310 an 1180\n",
            "termino 311 an 1184\n",
            "termino 312 an 1188\n",
            "termino 313 an 1192\n",
            "termino 314 an 1196\n",
            "termino 315 an 1200\n",
            "termino 316 an 1204\n",
            "termino 317 an 1208\n",
            "termino 318 an 1212\n",
            "termino 319 an 1216\n",
            "termino 320 an 1220\n",
            "termino 321 an 1224\n",
            "termino 322 an 1228\n",
            "termino 323 an 1232\n",
            "termino 324 an 1236\n",
            "termino 325 an 1240\n",
            "termino 326 an 1244\n",
            "termino 327 an 1248\n",
            "termino 328 an 1252\n",
            "termino 329 an 1256\n",
            "termino 330 an 1260\n",
            "termino 331 an 1264\n",
            "termino 332 an 1268\n",
            "termino 333 an 1272\n",
            "termino 334 an 1276\n",
            "termino 335 an 1280\n",
            "termino 336 an 1284\n",
            "termino 337 an 1288\n",
            "termino 338 an 1292\n",
            "termino 339 an 1296\n",
            "termino 340 an 1300\n",
            "termino 341 an 1304\n",
            "termino 342 an 1308\n",
            "termino 343 an 1312\n",
            "termino 344 an 1316\n",
            "termino 345 an 1320\n",
            "termino 346 an 1324\n",
            "termino 347 an 1328\n",
            "termino 348 an 1332\n",
            "termino 349 an 1336\n",
            "termino 350 an 1340\n",
            "termino 351 an 1344\n",
            "termino 352 an 1348\n",
            "termino 353 an 1352\n",
            "termino 354 an 1356\n",
            "termino 355 an 1360\n",
            "termino 356 an 1364\n",
            "termino 357 an 1368\n",
            "termino 358 an 1372\n",
            "termino 359 an 1376\n",
            "termino 360 an 1380\n",
            "termino 361 an 1384\n",
            "termino 362 an 1388\n",
            "termino 363 an 1392\n",
            "termino 364 an 1396\n",
            "termino 365 an 1400\n",
            "termino 366 an 1404\n",
            "termino 367 an 1408\n",
            "termino 368 an 1412\n",
            "termino 369 an 1416\n",
            "termino 370 an 1420\n",
            "termino 371 an 1424\n",
            "termino 372 an 1428\n",
            "termino 373 an 1432\n",
            "termino 374 an 1436\n",
            "termino 375 an 1440\n",
            "termino 376 an 1444\n",
            "termino 377 an 1448\n",
            "termino 378 an 1452\n",
            "termino 379 an 1456\n",
            "termino 380 an 1460\n",
            "termino 381 an 1464\n",
            "termino 382 an 1468\n",
            "termino 383 an 1472\n",
            "termino 384 an 1476\n",
            "termino 385 an 1480\n",
            "termino 386 an 1484\n",
            "termino 387 an 1488\n",
            "termino 388 an 1492\n",
            "termino 389 an 1496\n",
            "termino 390 an 1500\n",
            "termino 391 an 1504\n",
            "termino 392 an 1508\n",
            "termino 393 an 1512\n",
            "termino 394 an 1516\n",
            "termino 395 an 1520\n",
            "termino 396 an 1524\n",
            "termino 397 an 1528\n",
            "termino 398 an 1532\n",
            "termino 399 an 1536\n",
            "termino 400 an 1540\n",
            "termino 401 an 1544\n",
            "termino 402 an 1548\n",
            "termino 403 an 1552\n",
            "termino 404 an 1556\n",
            "termino 405 an 1560\n",
            "termino 406 an 1564\n",
            "termino 407 an 1568\n",
            "termino 408 an 1572\n",
            "termino 409 an 1576\n",
            "termino 410 an 1580\n",
            "termino 411 an 1584\n",
            "termino 412 an 1588\n",
            "termino 413 an 1592\n",
            "termino 414 an 1596\n",
            "termino 415 an 1600\n",
            "termino 416 an 1604\n",
            "termino 417 an 1608\n",
            "termino 418 an 1612\n",
            "termino 419 an 1616\n",
            "termino 420 an 1620\n",
            "termino 421 an 1624\n",
            "termino 422 an 1628\n",
            "termino 423 an 1632\n",
            "termino 424 an 1636\n",
            "termino 425 an 1640\n",
            "termino 426 an 1644\n",
            "termino 427 an 1648\n",
            "termino 428 an 1652\n",
            "termino 429 an 1656\n",
            "termino 430 an 1660\n",
            "termino 431 an 1664\n",
            "termino 432 an 1668\n",
            "termino 433 an 1672\n",
            "termino 434 an 1676\n",
            "termino 435 an 1680\n",
            "termino 436 an 1684\n",
            "termino 437 an 1688\n",
            "termino 438 an 1692\n",
            "termino 439 an 1696\n",
            "termino 440 an 1700\n",
            "termino 441 an 1704\n",
            "termino 442 an 1708\n",
            "termino 443 an 1712\n",
            "termino 444 an 1716\n",
            "termino 445 an 1720\n",
            "termino 446 an 1724\n",
            "termino 447 an 1728\n",
            "termino 448 an 1732\n",
            "termino 449 an 1736\n",
            "termino 450 an 1740\n",
            "termino 451 an 1744\n",
            "termino 452 an 1748\n",
            "termino 453 an 1752\n",
            "termino 454 an 1756\n",
            "termino 455 an 1760\n",
            "termino 456 an 1764\n",
            "termino 457 an 1768\n",
            "termino 458 an 1772\n",
            "termino 459 an 1776\n",
            "termino 460 an 1780\n",
            "termino 461 an 1784\n",
            "termino 462 an 1788\n",
            "termino 463 an 1792\n",
            "termino 464 an 1796\n",
            "termino 465 an 1800\n",
            "termino 466 an 1804\n",
            "termino 467 an 1808\n",
            "termino 468 an 1812\n",
            "termino 469 an 1816\n",
            "termino 470 an 1820\n",
            "termino 471 an 1824\n",
            "termino 472 an 1828\n",
            "termino 473 an 1832\n",
            "termino 474 an 1836\n",
            "termino 475 an 1840\n",
            "termino 476 an 1844\n",
            "termino 477 an 1848\n",
            "termino 478 an 1852\n",
            "termino 479 an 1856\n",
            "termino 480 an 1860\n",
            "termino 481 an 1864\n",
            "termino 482 an 1868\n",
            "termino 483 an 1872\n",
            "termino 484 an 1876\n",
            "termino 485 an 1880\n",
            "termino 486 an 1884\n",
            "termino 487 an 1888\n",
            "termino 488 an 1892\n",
            "termino 489 an 1896\n",
            "termino 490 an 1900\n",
            "termino 491 an 1904\n",
            "termino 492 an 1908\n",
            "termino 493 an 1912\n",
            "termino 494 an 1916\n",
            "termino 495 an 1920\n",
            "termino 496 an 1924\n",
            "termino 497 an 1928\n",
            "termino 498 an 1932\n",
            "termino 499 an 1936\n",
            "termino 500 an 1940\n"
          ]
        }
      ],
      "source": [
        "a1=-56\n",
        "d=4\n",
        "a=[]\n",
        "cont=0\n",
        "for i in range(500):\n",
        "    cont=i+1\n",
        "    a.append(a1+d*(cont-1))\n",
        "    print(f\"termino {cont} an {a[i]}\")"
      ]
    },
    {
      "cell_type": "markdown",
      "metadata": {},
      "source": [
        "2. La expresión del término de lugar $n$.\n"
      ]
    },
    {
      "cell_type": "code",
      "execution_count": 52,
      "metadata": {},
      "outputs": [
        {
          "name": "stdout",
          "output_type": "stream",
          "text": [
            "434\n"
          ]
        }
      ],
      "source": [
        "print(a.index(1680))"
      ]
    },
    {
      "cell_type": "markdown",
      "metadata": {},
      "source": [
        "3. Utilice un código en *Python* para calcular el término que ocupa el lugar $100$.\n"
      ]
    },
    {
      "cell_type": "markdown",
      "metadata": {},
      "source": [
        "4. Determinar la posición del número $1.680$ en la secuencia. Calcule utilizando un ciclo *while*."
      ]
    },
    {
      "cell_type": "markdown",
      "metadata": {
        "id": "gFYqGSbdqoqT"
      },
      "source": [
        "# Problema 9"
      ]
    },
    {
      "cell_type": "markdown",
      "metadata": {
        "id": "UtblbNCYqxOM"
      },
      "source": [
        "El tercer término de una sucesión geométrica es $5$ y el sexto término es $40$. Determine:\n",
        "\n",
        "1. La razón geométrica de la sucesión.\n",
        "2. El primer término de la sucesión.\n",
        "3. La expresión del término de lugar $n$.\n",
        "4. Utilice un código en *Python* para calcular el término que ocupa el lugar $8$.\n",
        "4. ¿Qué lugar ocupa en esta sucesión el término $20.480$? Calcule utilizando un ciclo *while*."
      ]
    },
    {
      "cell_type": "markdown",
      "metadata": {
        "id": "Ju4J8uWfxQKk"
      },
      "source": [
        "# Problema 10"
      ]
    },
    {
      "cell_type": "markdown",
      "metadata": {
        "id": "F6FPVCXQxTMj"
      },
      "source": [
        "Una empresa de tecnología está optimizando sus servidores. Para ello mide las transacciones por segundo (TPS) de sus servidores en cada mes. Se ha obtenido que en el segundo mes, el rendimiento del servidor fue $1,2$ miles de TPS y en el quinto mes, el rendimiento fue $2,7$ miles de TPS. Si el número de TPS que hay mes a mes sigue una sucesión geométrica, determina utilizando un código en *Python*:\n",
        "\n",
        "1. ¿Cuál es el rendimiento el noveno mes?\n",
        "2. ¿En qué mes el rendimiento es de $23,4$ miles de TPS?\n",
        "\n",
        "Utilice dos decimales para el cálculo."
      ]
    },
    {
      "cell_type": "markdown",
      "metadata": {
        "id": "jxQyaJXUCW7m"
      },
      "source": [
        "# Problema 11"
      ]
    },
    {
      "cell_type": "markdown",
      "metadata": {
        "id": "8LdxsBUwDfbf"
      },
      "source": [
        "Una aplicación de redes sociales se estrenó el $1$ de enero con una cierta cantidad de usuarios. A partir de ahí, el número de usuarios nuevos de cada día fue siempre el mismo. El $3$ de enero tenía $500$ usuarios en total y el $10$ de enero tenía $1.501$ usuarios totales.Determine:\n",
        "\n",
        "1. ¿Con cuántos usuarios comenzó a funcionar la aplicación?\n",
        "2. ¿Cuántos usuarios tendrá la aplicación el $31$ de enero?\n",
        "3. Si la aplicación tiene $5.505$ usuarios, ¿cuántos meses lleva funcionando?\n",
        "\n"
      ]
    },
    {
      "cell_type": "markdown",
      "metadata": {
        "id": "zBN3BhYVLLSe"
      },
      "source": [
        "# Problema 12"
      ]
    },
    {
      "cell_type": "markdown",
      "metadata": {
        "id": "kszkhh_GLQN1"
      },
      "source": [
        "Una empresa de publicidad ofrece para un puesto de trabajo un salario inicial y un aumento mensual en una razón constante. Javier se presenta a la entrevista, y el encargado del departamento de recursos humanos le explica que en el segundo mes de trabajo su sueldo será de $\\$402.000$, y que en el tercer mes de trabajo será de $\\$404.010$. Determine:\n",
        "\n",
        "1. El salario aproximado que Javier recibiría en el décimo mes de trabajo en la empresa.\n",
        "2. ¿Cuál sería el ingreso total recibido por los sueldos de Javier durante el tercer año de trabajo?"
      ]
    },
    {
      "cell_type": "markdown",
      "metadata": {
        "id": "-lx5k4b9Y8sD"
      },
      "source": [
        "# Problema 13"
      ]
    },
    {
      "cell_type": "markdown",
      "metadata": {
        "id": "OVuWQuXsY_pp"
      },
      "source": [
        "Una empresa de ciberseguridad capacita trabajadores cada trimestre. En el primer trimestre capacitaron a $30$ trabajadores, en el segundo trimestre a $60$ trabajadores, y en el tercer trimestre a $120$ trabajadores. Si en los siguientes trimestres la empresa mantiene el mismo patrón de crecimiento, determine utilizando *Python*:\n",
        "\n",
        "1. ¿A cuántos trabajadores capacitarán en el octavo trimestre?\n",
        "2. Si la empresa lleva en el mercado $3$ años, ¿a cuántos trabajadores han capacitado en total?"
      ]
    },
    {
      "cell_type": "markdown",
      "metadata": {
        "id": "IM7Xf51G6AXs"
      },
      "source": [
        "# Problema 14"
      ]
    },
    {
      "cell_type": "markdown",
      "metadata": {
        "id": "Ni_4WMQl6OeV"
      },
      "source": [
        "Al llenar un tambor con agua, se registra que durante el minuto $4$ el tambor recibe $128$ litros, y durante el minuto $9$ recibe $88$ litros. Sabiendo que en cada minuto recibe una cantidad $d$ de litros de agua menos que en el minuto anterior, determine:\n",
        "\n",
        "1. ¿En qué instante el tambor deja de recibir agua?\n",
        "2. ¿Cuántos litros recibe en total el tambor?\n",
        "\n",
        "Realice los cálculos anteriores utilizando *Python*."
      ]
    }
  ],
  "metadata": {
    "colab": {
      "provenance": []
    },
    "kernelspec": {
      "display_name": "Python 3",
      "name": "python3"
    },
    "language_info": {
      "codemirror_mode": {
        "name": "ipython",
        "version": 3
      },
      "file_extension": ".py",
      "mimetype": "text/x-python",
      "name": "python",
      "nbconvert_exporter": "python",
      "pygments_lexer": "ipython3",
      "version": "3.13.5"
    }
  },
  "nbformat": 4,
  "nbformat_minor": 0
}
