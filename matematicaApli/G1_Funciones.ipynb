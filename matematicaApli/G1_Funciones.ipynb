{
  "cells": [
    {
      "cell_type": "markdown",
      "metadata": {
        "id": "xXjhMBMryPEY"
      },
      "source": [
        "# Problema 1"
      ]
    },
    {
      "cell_type": "markdown",
      "metadata": {
        "id": "hd5aYLdWxUrZ"
      },
      "source": [
        "Una red transmite datos a $100$ megabits por segundo. Crea una función utilizando *Python* que permita calcular la cantidad de datos transmitidos en una cierta cantidad de tiempo (en segundos). Luego utiliza la función y calcula cuántos datos se transmiten en:\n",
        "\n",
        "* $45$ segundos\n",
        "* $1,5$ minutos\n",
        "* $1$ hora\n",
        "\n"
      ]
    },
    {
      "cell_type": "code",
      "execution_count": 5,
      "metadata": {},
      "outputs": [
        {
          "name": "stdout",
          "output_type": "stream",
          "text": [
            "360000\n",
            "en 45 segundo se transmiten 4500 megabits\n",
            "en 90 segundos se transmiten 9000 megabits\n",
            "en 3600 segundos se trasmiten 360000 megabits\n"
          ]
        }
      ],
      "source": [
        "def d(t):\n",
        "    return 100*t\n",
        "op=int(input(\"indica el tiempo (en segundos) que deseas\"))\n",
        "print(d(op))\n",
        "\n",
        "a=45\n",
        "print(f\"en {a} segundo se transmiten {d(a)} megabits\")\n",
        "b=90\n",
        "print(f\"en {b} segundos se transmiten {d(b)} megabits\")\n",
        "c=3600\n",
        "print(f\"en {c} segundos se trasmiten {d(c)} megabits\")"
      ]
    },
    {
      "cell_type": "markdown",
      "metadata": {
        "id": "D8XA9m7wAPMm"
      },
      "source": [
        "# Problema 2"
      ]
    },
    {
      "cell_type": "markdown",
      "metadata": {
        "id": "GAqylLb8Cu5U"
      },
      "source": [
        "Utilizando la función definida en el problema $1$, genera un listado que muestre los datos transmitidos para tiempos desde $0$ hasta $1.000$ segundos con incrementos de $100$ segundos."
      ]
    },
    {
      "cell_type": "code",
      "execution_count": null,
      "metadata": {},
      "outputs": [
        {
          "name": "stdout",
          "output_type": "stream",
          "text": [
            "en 0 segundos se transmiten 0, megabits \n",
            "en 100 segundos se transmiten 10000, megabits \n",
            "en 200 segundos se transmiten 20000, megabits \n",
            "en 300 segundos se transmiten 30000, megabits \n",
            "en 400 segundos se transmiten 40000, megabits \n",
            "en 500 segundos se transmiten 50000, megabits \n",
            "en 600 segundos se transmiten 60000, megabits \n",
            "en 700 segundos se transmiten 70000, megabits \n",
            "en 800 segundos se transmiten 80000, megabits \n",
            "en 900 segundos se transmiten 90000, megabits \n",
            "en 1000 segundos se transmiten 100000, megabits \n"
          ]
        }
      ],
      "source": [
        "def d(t):\n",
        "    return 100*t\n",
        "for i in range (0,1001,100):\n",
        "    print(f\"en {i} segundos se transmiten {d(i)}, megabits \")"
      ]
    },
    {
      "cell_type": "markdown",
      "metadata": {
        "id": "Y28VfYtL2lU-"
      },
      "source": [
        "# Problema 3"
      ]
    },
    {
      "cell_type": "markdown",
      "metadata": {
        "id": "Z1-uAGdQ2xq2"
      },
      "source": [
        "La **latencia** de una red corresponde al tiempo que tarda un paquete de datos en viajar desde el punto de origen al destino. En otras palabras, es el tiempo que transcurre desde que se envía una solicitud de un dispositivo hasta que se recibe una respuesta del servidor u otro dispositivo.\n",
        "\n",
        "La latencia puede verse afectada por la velocidad de transmisión de los datos a través de los cables o conexiones inalámbricas, la distancia física entre los dispositivos, el tiempo que tarda un computador en procesar o reenviar los datos, etc.\n",
        "\n",
        "En redes de comunicación, como las videoconferencias, juegos en línea y transmisión de datos en tiempo real, es deseable una baja latencia, de lo contrario pueden existir retrasos en la comunicación y afectar negativamente la experiencia del usuario."
      ]
    },
    {
      "cell_type": "markdown",
      "metadata": {
        "id": "XFLW0fW26j83"
      },
      "source": [
        "Según el contexto mencionado, crea una función en *Python* que permita calcular la **latencia real** de una red dada una latencia estimada. Suponga que la latencia real es un $20\\%$ mayor a la latencia estimada.\n",
        "\n",
        "Calcule la latencia real para una latencia estimada de:\n",
        "\n",
        "a)   $200$ milisegundos.\n",
        "\n",
        "b)   $149$ milisegundos.\n",
        "\n",
        "c)   $74$ milisegundos.\n",
        "\n"
      ]
    },
    {
      "cell_type": "code",
      "execution_count": null,
      "metadata": {},
      "outputs": [
        {
          "name": "stdout",
          "output_type": "stream",
          "text": [
            "la latencia real con 200 milisegundos es de 240.0\n",
            "la latencia real con 149 milisegundos es de 178.79999999999998\n",
            "la latencia  realcon 74 milisegundos es de 88.8\n"
          ]
        }
      ],
      "source": [
        "def L(r):\n",
        "    return r*1.2\n",
        "a=200\n",
        "print(f\"la latencia real con {a} milisegundos es de {L(a)}\")\n",
        "b=149\n",
        "print(f\"la latencia real con {b} milisegundos es de {L(b)}\")\n",
        "c=74\n",
        "print(f\"la latencia  realcon {c} milisegundos es de {L(c)}\")"
      ]
    },
    {
      "cell_type": "markdown",
      "metadata": {
        "id": "LGX3xr94E-Ix"
      },
      "source": [
        "# Problema 4"
      ]
    },
    {
      "cell_type": "markdown",
      "metadata": {
        "id": "wPT1xIfVGDCQ"
      },
      "source": [
        "Como parte de un proyecto de mejora, en el año $2021$ se instaló un cable de fibra óptica que une España con EEUU. El cable tiene un largo de $6.600$ $km$ y fue colocado por un barco a una velocidad de $1,85$ $km/h$.\n",
        "\n",
        "\n",
        "\n",
        "1.   Determine la forma algebraica de la función que permite determinar el largo del cable instalado (en km) a partir del tiempo transcurrido (en horas). Utilice la instrucción *def* para definir la función en *Python*.\n",
        "2.   Defina variable dependiente e independiente, indicando unidad de medida.\n",
        "3.   Determine el dominio contextualizado de la función.\n",
        "4.   Grafique la función utilizando la biblioteca *Matplotlib* considerando el dominio contextualizado.\n",
        "5.   ¿Cuántos metros de cable se instalaron al transcurrir $148$ horas? ¿Y transcurridas $2.300$ horas?\n",
        "6.   Si se han instalado $3.480$ kilometros de cable, ¿cuántas horas llevan de trabajo?\n",
        "7.   ¿Cuánto tiempo transcurrió para que se completara la obra?\n",
        "\n",
        "\n"
      ]
    },
    {
      "cell_type": "code",
      "execution_count": 21,
      "metadata": {},
      "outputs": [],
      "source": [
        "def cable(t):\n",
        "    return 1.85*t\n",
        "\n"
      ]
    },
    {
      "cell_type": "markdown",
      "metadata": {},
      "source": [
        "2.- La variable dependiente es el largo en km y la independiente es el tiempo en horas"
      ]
    },
    {
      "cell_type": "markdown",
      "metadata": {},
      "source": [
        "3.- El dominio contextualizado de la funcion en principio son todos los numeros reales positivos. Sin embargo, como el cable tiene 6600 km de largo calcularemos el dominio efectivo de este caso : "
      ]
    },
    {
      "cell_type": "code",
      "execution_count": 3,
      "metadata": {},
      "outputs": [
        {
          "name": "stdout",
          "output_type": "stream",
          "text": [
            "el dominio contextualizado va desde [0, 3567.57 ] horas. \n"
          ]
        }
      ],
      "source": [
        "print(\"el dominio contextualizado va desde [0,\", round(6600/1.85, 2) , \"] horas. \")"
      ]
    },
    {
      "cell_type": "code",
      "execution_count": 23,
      "metadata": {},
      "outputs": [
        {
          "data": {
            "image/png": "[encoded data removed]",
            "text/plain": [
              "<Figure size 432x288 with 1 Axes>"
            ]
          },
          "metadata": {
            "needs_background": "light"
          },
          "output_type": "display_data"
        }
      ],
      "source": [
        "# importamos pyplot de matplotlib y numpy\n",
        "import matplotlib.pyplot as plt\n",
        "import numpy as np\n",
        "# generaremos una tabla de datos usando numpy\n",
        "# a la que aplicaremos la funci´on, que es la misma del ejemplo\n",
        "# tomaremos la variable independiente entre 0 y 6\n",
        "# y haremos los elementos de la tabla separados en 0,01\n",
        "x = np.arange(0, 3569, 1 )\n",
        "# para cada elemento del dominio, aplicaremos la funci´on\n",
        "y = cable(x)\n",
        "# le pedimos a matplotlib que genere un gr´afico\n",
        "plt.plot(x, y)\n",
        "# cuyos ejes van de 0 a 6 en la x, de 0 a 2800 en la y\n",
        "plt.axis([-100, 3700, -200, 6800])\n",
        "# con un t´ıtulo de eje x\n",
        "plt.xlabel(\"tiempo trancurrido en horas\")\n",
        "# y un t´ıtulo de eje y\n",
        "plt.ylabel(\"Largo del cable km \")\n",
        "# y un titulo del gr´afico\n",
        "plt.title(\"largo del cable segun tiempo(hrs)\")\n",
        "# pedimos mostrar una grilla para facilitar la lectura\n",
        "plt.grid(True)\n",
        "# y que nos muestre el gr´afico\n",
        "plt.show()"
      ]
    },
    {
      "cell_type": "markdown",
      "metadata": {},
      "source": [
        "5.- \n"
      ]
    },
    {
      "cell_type": "code",
      "execution_count": 24,
      "metadata": {},
      "outputs": [
        {
          "name": "stdout",
          "output_type": "stream",
          "text": [
            "transcurridas 148 horas se han instalado 273.8 metros de cable \n",
            "transcurridas 2300 horas se han instalado 4255.0 metros de cable \n"
          ]
        }
      ],
      "source": [
        "a=148\n",
        "print(f\"transcurridas {a} horas se han instalado {cable(a)} metros de cable \")\n",
        "b=2300\n",
        "print(f\"transcurridas {b} horas se han instalado {cable(b)} metros de cable \")\n"
      ]
    },
    {
      "cell_type": "markdown",
      "metadata": {},
      "source": [
        "6.- para contestar debemos calcular que tiempo multiplicado por 1.85 da resultado 3480"
      ]
    },
    {
      "cell_type": "code",
      "execution_count": 26,
      "metadata": {},
      "outputs": [
        {
          "name": "stdout",
          "output_type": "stream",
          "text": [
            "si se han instalado 3480 km de cable el barco ha trabajado 1881.08 horas\n"
          ]
        }
      ],
      "source": [
        "c=3480\n",
        "print(f\"si se han instalado {c} km de cable el barco ha trabajado {round(c/1.85, 2)} horas\")"
      ]
    },
    {
      "cell_type": "markdown",
      "metadata": {},
      "source": [
        "7.-"
      ]
    },
    {
      "cell_type": "code",
      "execution_count": 28,
      "metadata": {},
      "outputs": [
        {
          "name": "stdout",
          "output_type": "stream",
          "text": [
            "el tiempo pasado para que se completara la obra es de en 3567.57 horas \n"
          ]
        }
      ],
      "source": [
        "\n",
        "print(f\"el tiempo pasado para que se completara la obra es de en {round(6600/1.85, 2)} horas \")"
      ]
    },
    {
      "cell_type": "code",
      "execution_count": null,
      "metadata": {},
      "outputs": [],
      "source": []
    },
    {
      "cell_type": "markdown",
      "metadata": {
        "id": "FMr921rUDxvV"
      },
      "source": [
        "# Problema 5"
      ]
    },
    {
      "cell_type": "markdown",
      "metadata": {
        "id": "Iuo-QM5vGSiW"
      },
      "source": [
        "Un turista ha llegado a Santiago y desea conocer algunos lugares de la ciudad. Ha decidido visitar el Palacio de la Moneda y desde ahí trasladarse al centro comercial \"Costanera Center\", utilizando algún medio de transporte que ofrece la ciudad.\n",
        "\n",
        "Si se traslada en metro deberá abordar en estación La Moneda y bajar en la estación Tobalaba ($9$ estaciones). La función $f(t)$ permite calcular la distancia recorrida utilizando el metro (en kilómetros) transcurridos $t$ minutos.\n",
        "\n",
        "$$f(t) = 0,4t$$\n",
        "\n",
        "Si se traslada en bus, el turista podrá observar la ciudad y otros atractivos en su viaje. La función $g(t)$ permite calcular la distancia recorrida en bus (en kilómetros) transcurridos $t$ minutos.\n",
        "\n",
        "$$g(t) = 0,3t$$\n",
        "\n",
        "Según la información anterior:\n",
        "\n",
        "1. Grafique ambas funciones, indicando el nombre de cada eje junto con su unidad de medida. Para realizar el gráfico utilice la biblioteca *Matplotlib*.\n",
        "2.  Si se sabe que el metro se demora $1,2$ minutos en llegar desde una estación a otra y espera $30$ segundos en cada estación, indique el dominio contextualizado para $f(t)$.\n",
        "3. Mediante análisis gráfico, indique cuál medio de transporte es más conveniente en términos de tiempo, para el turista. Justifique.\n",
        "4.  Si se sabe que desde estación La Moneda hasta Tobalaba son aproximadamente $6$ kilómetros ¿cuántos tiempo tardará el turista en llegar a su destino con cada una de las opciones?"
      ]
    },
    {
      "cell_type": "markdown",
      "metadata": {
        "id": "C5psSJY-S9x4"
      },
      "source": [
        "# Problema 6"
      ]
    },
    {
      "cell_type": "markdown",
      "metadata": {
        "id": "0v3a4hJATUgX"
      },
      "source": [
        "La temperatura de un servidor (en °C) puede ser modelada mediante la función\n",
        "\n",
        "$$T(t) = -0,5 t^{2} + 3 t + 20$$\n",
        "\n",
        "donde $t$ corresponde al tiempo transcurrido (en horas) en un día laboral. Considere que la jornada laboral comienza a las 08:00 horas y termina a las 17:00 horas.\n",
        "\n",
        "1.  Defina variable dependiente e independiente, indicando unidad de medida.\n",
        "2.  Determine el dominio contextualizado del problema.\n",
        "3.  Grafique la función utilizando *Python*.\n",
        "4.  Mediante un análisis gráfico, estime cuándo el servidor alcanza la máxima temperatura y calcule cuánto es.\n",
        "5.  Determine la temperatura del servidor a las 13:00 horas y al finalizar la jornada laboral.\n"
      ]
    },
    {
      "cell_type": "markdown",
      "metadata": {},
      "source": [
        "1.- La variable dependiente es la temperatura en Celcius y la independiente es el tiempo transcurrido en horas\n",
        "2.- Los numeros positivos de 0(desde cuando llega) hasta 9 (cuando se termina la jornada laboral)\n"
      ]
    },
    {
      "cell_type": "code",
      "execution_count": 37,
      "metadata": {},
      "outputs": [],
      "source": [
        "def temp(t):\n",
        "    return -0.5*(t**2)+3*t +20"
      ]
    },
    {
      "cell_type": "code",
      "execution_count": 60,
      "metadata": {},
      "outputs": [
        {
          "data": {
            "image/png": "[encoded data removed]",
            "text/plain": [
              "<Figure size 432x288 with 1 Axes>"
            ]
          },
          "metadata": {
            "needs_background": "light"
          },
          "output_type": "display_data"
        }
      ],
      "source": [
        "# importamos pyplot de matplotlib y numpy\n",
        "import matplotlib.pyplot as plt\n",
        "import numpy as np\n",
        "# generaremos una tabla de datos usando numpy\n",
        "# a la que aplicaremos la funci´on, que es la misma del ejemplo\n",
        "# tomaremos la variable independiente entre 0 y 9\n",
        "# y haremos los elementos de la tabla separados en 1\n",
        "x = np.arange(0, 9, 0.1)\n",
        "# para cada elemento del dominio, aplicaremos la funci´on -0.5*x**2+3*x*20\n",
        "y =  temp(x)\n",
        "# le pedimos a matplotlib que genere un gr´afico\n",
        "plt.plot(x, y)\n",
        "# cuyos ejes van de -1 a 9 en la x, de -1 a 30 en la y\n",
        "plt.axis([0, 9, 15, 25])\n",
        "# con un t´ıtulo de eje x\n",
        "plt.xlabel(\"Tiempo (hrs)\")\n",
        "# y un t´ıtulo de eje y\n",
        "plt.ylabel(\"temperatura(C)\")\n",
        "# y un titulo del gr´afico\n",
        "plt.title(\"Temperatura de un servidor segun horas transcurridas\")\n",
        "# pedimos mostrar una grilla para facilitar la lectura\n",
        "plt.grid(True)\n",
        "# y que nos muestre el gr´afico\n",
        "plt.show()"
      ]
    },
    {
      "cell_type": "code",
      "execution_count": 56,
      "metadata": {},
      "outputs": [
        {
          "name": "stdout",
          "output_type": "stream",
          "text": [
            "el tiempo en el que alcanza la temp maxima es de 3 horas y seria de 24.5 grados celcius \n"
          ]
        }
      ],
      "source": [
        "print(f\"el tiempo en el que alcanza la temp maxima es de 3 horas y seria de {temp(3)} grados celcius \")"
      ]
    },
    {
      "cell_type": "code",
      "execution_count": 61,
      "metadata": {},
      "outputs": [
        {
          "name": "stdout",
          "output_type": "stream",
          "text": [
            "a la 1 de la tarde la temperatura seria 22.5 grados celcius y al final de la jornada es de  6.5 grados celcius \n"
          ]
        }
      ],
      "source": [
        "inicio=5\n",
        "termino=9\n",
        "print(f\"a la 1 de la tarde la temperatura seria {temp(inicio)} grados celcius y al final de la jornada es de  {temp(termino)} grados celcius \")"
      ]
    },
    {
      "cell_type": "markdown",
      "metadata": {
        "id": "pD_SzSu3jBkn"
      },
      "source": [
        "# Problema 7"
      ]
    },
    {
      "cell_type": "markdown",
      "metadata": {
        "id": "OJyAOwerjJ5m"
      },
      "source": [
        "El número de usuarios de una red social se puede modelar mediante la función:\n",
        "\n",
        "$$U(t) = \\frac{1.000}{1+9e^{-0.5t}}$$\n",
        "\n",
        "donde $t$ corresponde al tiempo transcurrido en meses.\n",
        "\n",
        "1.  Defina variable dependiente e independiente, indicando unidad de medida.\n",
        "2.  Determine la cantidad de usuarios transcurridos $12$ meses.\n",
        "3.  Grafique la función, utilizando la librería *Matplotlib*, para los primeros dos años de funcionamiento.\n",
        "4.  ¿Cuánto tiempo debe pasar para que la red social llegue a $800$ usuarios?"
      ]
    },
    {
      "cell_type": "markdown",
      "metadata": {},
      "source": [
        "1.- La variable independiente es de el tiempo que seria tiempo en meses y la dependiente el numero de usuarios de una red social\n"
      ]
    },
    {
      "cell_type": "code",
      "execution_count": 150,
      "metadata": {},
      "outputs": [
        {
          "name": "stdout",
          "output_type": "stream",
          "text": [
            "en 12 meses la cantidad de usuarios fueron 978\n"
          ]
        }
      ],
      "source": [
        "import numpy as np\n",
        "\n",
        "def U(t):\n",
        "    e=np.exp(-0.5*t)\n",
        "    return 1000/(1+9*e)\n",
        "print(f\"en 12 meses la cantidad de usuarios fueron {round(U(12))}\")\n",
        "\n"
      ]
    },
    {
      "cell_type": "code",
      "execution_count": 104,
      "metadata": {},
      "outputs": [
        {
          "data": {
            "image/png": "[encoded data removed]",
            "text/plain": [
              "<Figure size 432x288 with 1 Axes>"
            ]
          },
          "metadata": {
            "needs_background": "light"
          },
          "output_type": "display_data"
        }
      ],
      "source": [
        "# importamos pyplot de matplotlib y numpy\n",
        "import matplotlib.pyplot as plt\n",
        "import numpy as np\n",
        "# generaremos una tabla de datos usando numpy\n",
        "# a la que aplicaremos la funci´on, que es la misma del ejemplo\n",
        "# tomaremos la variable independiente entre 0 y 6\n",
        "# y haremos los elementos de la tabla separados en 0,01\n",
        "x = np.arange(0, 12, 0.01)\n",
        "# para cada elemento del dominio, aplicaremos la funci´on\n",
        "y = U(x)\n",
        "# le pedimos a matplotlib que genere un gr´afico\n",
        "plt.plot(x, y)\n",
        "# cuyos ejes van de 0 a 6 en la x, de 0 a 2800 en la y\n",
        "plt.axis([-1, 12.5, 0, 1100])\n",
        "# con un t´ıtulo de eje x\n",
        "plt.xlabel(\"Tiempo transcurrido en meses\")\n",
        "# y un t´ıtulo de eje y\n",
        "plt.ylabel(\"Cantidad de usuarios\")\n",
        "# y un titulo del gr´afico\n",
        "plt.title(\"número de usuarios de una red social en meses\")\n",
        "# pedimos mostrar una grilla para facilitar la lectura\n",
        "plt.grid(True)\n",
        "# y que nos muestre el gr´afico\n",
        "plt.show()"
      ]
    },
    {
      "cell_type": "code",
      "execution_count": null,
      "metadata": {},
      "outputs": [
        {
          "name": "stdout",
          "output_type": "stream",
          "text": [
            "[7.16703788]\n",
            "7.16703787691213\n",
            "para que lleguen a 800 usuarios debe pasar 7.17 meses\n"
          ]
        }
      ],
      "source": [
        "# Se llama a la biblioteca numpy, para trabajar con arreglos\n",
        "# de datos\n",
        "import numpy as np\n",
        "# M´odulo de la biblioteca scipy que nos permitir´a poder\n",
        "# resolver ecuaciones no necesariamente lineales\n",
        "# a trav´es de la funci´on fsolve\n",
        "from scipy.optimize import fsolve\n",
        "# Se define la funci´on C(e) y se retorna la expresi´on\n",
        "# resultante del igualar a cero\n",
        "def C(t):\n",
        "    e=np.exp(-0.5*t)\n",
        "    return 1000/(1+9*e)-800\n",
        "\n",
        "t = np.linspace(5, 10, 1)\n",
        "sol = fsolve(C, t)\n",
        "# Imprime en la consola el resultado obtenido del despeje\n",
        "# de la ecuaci´on\n",
        "print(sol)\n",
        "print(sol[0])\n",
        "print(f\"para que lleguen a 800 usuarios debe pasar {round(sol[0],2)} meses\")\n",
        "\n"
      ]
    },
    {
      "cell_type": "markdown",
      "metadata": {
        "id": "TaZ_E6YwB0I4"
      },
      "source": [
        "# Problema 8"
      ]
    },
    {
      "cell_type": "markdown",
      "metadata": {
        "id": "HwpmaO5cDO43"
      },
      "source": [
        "El tiempo de ejecución de un algoritmo de ordenación (en segundos) se puede modelar mediante la función:\n",
        "\n",
        "$$A(n) = 0,01n^{2} + 0,5n + 2$$\n",
        "\n",
        "donde $n$ corresponde a la cantidad de elementos a ordenar. El algoritmo funciona desde las 23:00 horas hasta las 06:00 horas y debe ordenar $1.562$ elementos.\n",
        "\n",
        "1. Defina variable dependiente e independiente, indicando unidad de medida.\n",
        "2. Determine el dominio contextualizado de la función.\n",
        "3. Determine el tiempo de ejecución para ordenar $1.200$ elementos.\n",
        "4. Grafique, utilizando la biblioteca *Matplotlib*, la función $A(n)$.\n",
        "5. ¿Cuántos elementos ordena luego de $6$ horas de funcionamiento?"
      ]
    },
    {
      "cell_type": "markdown",
      "metadata": {},
      "source": [
        "----\n",
        "1. La variable cantidad de elementos(uni) es la independiente y la dependiente es el tiempo(segundos)"
      ]
    },
    {
      "cell_type": "markdown",
      "metadata": {},
      "source": [
        "2. el dominio contextualizado es de [0] hasta [1562] elementos para ordenar "
      ]
    },
    {
      "cell_type": "code",
      "execution_count": 22,
      "metadata": {},
      "outputs": [
        {
          "name": "stdout",
          "output_type": "stream",
          "text": [
            "el algoritmo demora 2 segundos en ordenar 0 elementos\n",
            "el algoritmo demora 15002 segundos en ordenar 1200 elementos\n",
            "el algoritmo demora 25181 segundos en ordenar 1562 elementos\n"
          ]
        }
      ],
      "source": [
        "def A(n):\n",
        "    return (0.01*n**2)+ (0.5*n)+2\n",
        "\n",
        "a=0\n",
        "b=1200\n",
        "c=1562\n",
        "print(f\"el algoritmo demora {round(A(a))} segundos en ordenar {a} elementos\")\n",
        "print(f\"el algoritmo demora {round(A(b))} segundos en ordenar {b} elementos\")\n",
        "print(f\"el algoritmo demora {round(A(c))} segundos en ordenar {c} elementos\")"
      ]
    },
    {
      "cell_type": "code",
      "execution_count": 49,
      "metadata": {},
      "outputs": [
        {
          "data": {
            "image/png": "[encoded data removed]",
            "text/plain": [
              "<Figure size 432x288 with 1 Axes>"
            ]
          },
          "metadata": {
            "needs_background": "light"
          },
          "output_type": "display_data"
        }
      ],
      "source": [
        "# importamos pyplot de matplotlib y numpy\n",
        "import matplotlib.pyplot as plt\n",
        "import numpy as np\n",
        "# generaremos una tabla de datos usando numpy\n",
        "# a la que aplicaremos la funci´on, que es la misma del ejemplo\n",
        "# tomaremos la variable independiente entre 0 y 6\n",
        "# y haremos los elementos de la tabla separados en 0,01\n",
        "x = np.arange(0, 1563, 1)\n",
        "# para cada elemento del dominio, aplicaremos la funci´on\n",
        "y = A(x)\n",
        "# le pedimos a matplotlib que genere un gr´afico\n",
        "plt.plot(x, y)\n",
        "# cuyos ejes van de 0 a 6 en la x, de 0 a 2800 en la y\n",
        "plt.axis([-30, 1600, -500, 26000])\n",
        "# con un t´ıtulo de eje x\n",
        "plt.xlabel(\"n: Cantidad de elementos\")\n",
        "# y un t´ıtulo de eje y\n",
        "plt.ylabel(\"A(n) tiempo de ejecucion en segundos\")\n",
        "# y un titulo del gr´afico\n",
        "plt.title(\"numero de elemnentos ordenados en segundos\")\n",
        "# pedimos mostrar una grilla para facilitar la lectura\n",
        "plt.grid(True)\n",
        "# y que nos muestre el gr´afico\n",
        "plt.show()"
      ]
    },
    {
      "cell_type": "code",
      "execution_count": 48,
      "metadata": {},
      "outputs": [
        {
          "name": "stdout",
          "output_type": "stream",
          "text": [
            "[1444.83842649]\n",
            "1444.8384264945685\n",
            "en 6 horas se ordenan 1445\n"
          ]
        }
      ],
      "source": [
        "# Se llama a la biblioteca numpy, para trabajar con arreglos\n",
        "# de datos\n",
        "import numpy as np\n",
        "# M´odulo de la biblioteca scipy que nos permitir´a poder\n",
        "# resolver ecuaciones no necesariamente lineales\n",
        "# a trav´es de la funci´on fsolve\n",
        "from scipy.optimize import fsolve\n",
        "# Se define la funci´on C(e) y se retorna la expresi´on\n",
        "# resultante del igualar a cero\n",
        "def B(x):\n",
        "    return A(x)-21600\n",
        "\n",
        "x= np.linspace(1400, 1500, 1)\n",
        "sol = fsolve(B,x)\n",
        "# Imprime en la consola el resultado obtenido del despeje\n",
        "# de la ecuaci´on\n",
        "print(sol)\n",
        "print(sol[0])\n",
        "print(f\"en 6 horas se ordenan {round(sol[0])}\")"
      ]
    },
    {
      "cell_type": "markdown",
      "metadata": {
        "id": "yOcCVQKdOeGC"
      },
      "source": [
        "# Problema 9"
      ]
    },
    {
      "cell_type": "markdown",
      "metadata": {
        "id": "QZl4iQT2Ognb"
      },
      "source": [
        "El consumo de energía (en $kWh$) de un *Data Center* puede ser modelado por la función:\n",
        "\n",
        " $$E(t) = 50\\cdot \\log(t + 1) + 200$$\n",
        "\n",
        "donde $t$ corresponde al tiempo (en horas) desde el inicio del monitoreo.\n",
        "\n",
        "1. Defina variable dependiente e independiente, indicando unidad de medida.\n",
        "2. Determine el consumo de energía del *Data Center* después de $5$ horas.\n",
        "3. ¿Luego de cuántas horas el consumo será de $350$ kWh?\n",
        "4. Grafique, utilizando la biblioteca *Matplotlib*, la función $E(t)$."
      ]
    },
    {
      "cell_type": "markdown",
      "metadata": {
        "id": "OHKN7SIFyh2-"
      },
      "source": [
        "# Problema 10"
      ]
    },
    {
      "cell_type": "markdown",
      "metadata": {
        "id": "T1ooPV9Ny4mr"
      },
      "source": [
        "En gestión de proyectos, es crucial entender cómo se distribuye la carga de trabajo a lo largo del tiempo para planificar recursos, tiempo y esfuerzos de manera eficiente. Un fenómeno común es la disminución exponencial de la carga de trabajo, donde el esfuerzo requerido es mayor al inicio del proyecto y disminuye gradualmente a medida que se completan las tareas principales.\n",
        "\n",
        "Esta disminución exponencial puede modelarse matemáticamente para predecir y gestionar el trabajo de manera efectiva.\n",
        "\n",
        "<br>\n",
        "\n",
        "Un estudio sobre gestión de proyectos sostiene que la carga de trabajo en un proyecto (en porcentaje) puede ser modelada por la función:\n",
        "\n",
        "$$W(t) = 100e^{-0.1t}$$\n",
        "\n",
        "donde $t$ corresponde al tiempo transcurrido (en semanas) desde el inicio del proyecto.\n",
        "\n",
        "1. Defina variable dependiente e independiente, indicando unidad de medida.\n",
        "2. Determine la carga de trabajo al inicio del proyecto.\n",
        "3. ¿Cuál será la carga de trabajo luego de transcurridas $4$ semanas desde el inicio del proyecto?\n",
        "4. Si el proyecto duró $12$ semanas, ¿es correcto afirmar que la carga de trabajo llegó al $20\\%$?\n",
        "5. ¿Cuántas semanas han pasado desde el inicio del proyecto para que la carga de trabajo sea de $55\\%$?\n",
        "6. Utilizando *Matplotlib*, grafique la función considerando un tiempo máximo de $12$ semanas."
      ]
    }
  ],
  "metadata": {
    "colab": {
      "provenance": [],
      "toc_visible": true
    },
    "kernelspec": {
      "display_name": "base",
      "language": "python",
      "name": "python3"
    },
    "language_info": {
      "codemirror_mode": {
        "name": "ipython",
        "version": 3
      },
      "file_extension": ".py",
      "mimetype": "text/x-python",
      "name": "python",
      "nbconvert_exporter": "python",
      "pygments_lexer": "ipython3",
      "version": "3.8.5"
    }
  },
  "nbformat": 4,
  "nbformat_minor": 0
}
